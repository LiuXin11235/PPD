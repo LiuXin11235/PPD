{
 "cells": [
  {
   "cell_type": "code",
   "execution_count": 58,
   "metadata": {
    "collapsed": false
   },
   "outputs": [],
   "source": [
    "import numpy as np\n",
    "import pandas as pd\n",
    "import matplotlib.pyplot as plt\n",
    "\n",
    "%matplotlib inline"
   ]
  },
  {
   "cell_type": "code",
   "execution_count": 2,
   "metadata": {
    "collapsed": true
   },
   "outputs": [],
   "source": [
    "train_dir = \"/Users/Aurora/百度云同步盘/mac百度同步/实验室/Anti-fraud/拍拍贷/PPD-First-Round-Data-Update/Training Set/\"\n",
    "loginfo_f = \"PPD_LogInfo_3_1_Training_Set.csv\"\n",
    "master_f = \"PPD_Training_Master_GBK_3_1_Training_Set.csv\"\n",
    "userupdate_f = \"PPD_Userupdate_Info_3_1_Training_Set.csv\"\n",
    "\n",
    "test_dir = \"/Users/Aurora/百度云同步盘/mac百度同步/实验室/Anti-fraud/拍拍贷/PPD-First-Round-Data-Update/Test Set/\"\n",
    "loginfo_test_f = \"PPD_LogInfo_2_Test_Set.csv\"\n",
    "master_test_f = \"PPD_Master_GBK_2_Test_Set.csv\"\n",
    "userupdate_test_f = \"PPD_Userupdate_Info_2_Test_Set.csv\""
   ]
  },
  {
   "cell_type": "markdown",
   "metadata": {},
   "source": [
    "# 1. 查看数据"
   ]
  },
  {
   "cell_type": "markdown",
   "metadata": {},
   "source": [
    "### Loginfo 借款人的登陆信息\n",
    "\n",
    "ListingInfo：借款成交时间\n",
    "\n",
    "LogInfo1：操作代码\n",
    "\n",
    "LogInfo2：操作类别\n",
    "\n",
    "LogInfo3：登陆时间\n",
    "\n",
    "idx：每一笔贷款的unique key"
   ]
  },
  {
   "cell_type": "code",
   "execution_count": 3,
   "metadata": {
    "collapsed": false
   },
   "outputs": [
    {
     "data": {
      "text/html": [
       "<div>\n",
       "<table border=\"1\" class=\"dataframe\">\n",
       "  <thead>\n",
       "    <tr style=\"text-align: right;\">\n",
       "      <th></th>\n",
       "      <th>Idx</th>\n",
       "      <th>Listinginfo1</th>\n",
       "      <th>LogInfo1</th>\n",
       "      <th>LogInfo2</th>\n",
       "      <th>LogInfo3</th>\n",
       "    </tr>\n",
       "  </thead>\n",
       "  <tbody>\n",
       "    <tr>\n",
       "      <th>0</th>\n",
       "      <td>10005</td>\n",
       "      <td>2014-02-21</td>\n",
       "      <td>1</td>\n",
       "      <td>2</td>\n",
       "      <td>2014-02-20</td>\n",
       "    </tr>\n",
       "    <tr>\n",
       "      <th>1</th>\n",
       "      <td>10005</td>\n",
       "      <td>2014-02-21</td>\n",
       "      <td>2</td>\n",
       "      <td>21</td>\n",
       "      <td>2014-02-21</td>\n",
       "    </tr>\n",
       "    <tr>\n",
       "      <th>2</th>\n",
       "      <td>10005</td>\n",
       "      <td>2014-02-21</td>\n",
       "      <td>-4</td>\n",
       "      <td>6</td>\n",
       "      <td>2014-02-20</td>\n",
       "    </tr>\n",
       "  </tbody>\n",
       "</table>\n",
       "</div>"
      ],
      "text/plain": [
       "     Idx Listinginfo1  LogInfo1  LogInfo2    LogInfo3\n",
       "0  10005   2014-02-21         1         2  2014-02-20\n",
       "1  10005   2014-02-21         2        21  2014-02-21\n",
       "2  10005   2014-02-21        -4         6  2014-02-20"
      ]
     },
     "execution_count": 3,
     "metadata": {},
     "output_type": "execute_result"
    }
   ],
   "source": [
    "loginfo = pd.read_csv(train_dir+loginfo_f,encoding=\"utf-8\")\n",
    "loginfo_test = pd.read_csv(test_dir+loginfo_test_f,encoding=\"utf-8\")\n",
    "loginfo_test.head(3)"
   ]
  },
  {
   "cell_type": "markdown",
   "metadata": {},
   "source": [
    "### Master每一行代表一个样本（一笔成功成交借款），每个样本包含200多个各类字段。\n",
    "idx：每一笔贷款的unique key，可以与另外2个文件里的idx相匹配\n",
    "\n",
    "UserInfo_*：借款人特征字段\n",
    "\n",
    "WeblogInfo_*：Info网络行为字段\n",
    "\n",
    "Education_Info*：学历学籍字段\n",
    "\n",
    "ThirdParty_Info_PeriodN_*：第三方数据时间段N字段\n",
    "\n",
    "SocialNetwork_*：社交网络字段\n",
    "\n",
    "LinstingInfo：借款成交时间\n",
    "\n",
    "Target：违约标签（1 = 贷款违约，0 = 正常还款）。测试集里不包含target字段。"
   ]
  },
  {
   "cell_type": "code",
   "execution_count": 4,
   "metadata": {
    "collapsed": false
   },
   "outputs": [
    {
     "data": {
      "text/html": [
       "<div>\n",
       "<table border=\"1\" class=\"dataframe\">\n",
       "  <thead>\n",
       "    <tr style=\"text-align: right;\">\n",
       "      <th></th>\n",
       "      <th>Idx</th>\n",
       "      <th>UserInfo_1</th>\n",
       "      <th>UserInfo_2</th>\n",
       "      <th>UserInfo_3</th>\n",
       "      <th>UserInfo_4</th>\n",
       "      <th>WeblogInfo_1</th>\n",
       "      <th>WeblogInfo_2</th>\n",
       "      <th>WeblogInfo_3</th>\n",
       "      <th>WeblogInfo_4</th>\n",
       "      <th>WeblogInfo_5</th>\n",
       "      <th>...</th>\n",
       "      <th>SocialNetwork_9</th>\n",
       "      <th>SocialNetwork_10</th>\n",
       "      <th>SocialNetwork_11</th>\n",
       "      <th>SocialNetwork_12</th>\n",
       "      <th>SocialNetwork_13</th>\n",
       "      <th>SocialNetwork_14</th>\n",
       "      <th>SocialNetwork_15</th>\n",
       "      <th>SocialNetwork_16</th>\n",
       "      <th>SocialNetwork_17</th>\n",
       "      <th>ListingInfo</th>\n",
       "    </tr>\n",
       "  </thead>\n",
       "  <tbody>\n",
       "    <tr>\n",
       "      <th>0</th>\n",
       "      <td>10005</td>\n",
       "      <td>1.0</td>\n",
       "      <td>广州</td>\n",
       "      <td>5.0</td>\n",
       "      <td>韶关</td>\n",
       "      <td>NaN</td>\n",
       "      <td>0.0</td>\n",
       "      <td>NaN</td>\n",
       "      <td>1.0</td>\n",
       "      <td>1.0</td>\n",
       "      <td>...</td>\n",
       "      <td>626</td>\n",
       "      <td>396</td>\n",
       "      <td>-1</td>\n",
       "      <td>0</td>\n",
       "      <td>0</td>\n",
       "      <td>0</td>\n",
       "      <td>0</td>\n",
       "      <td>0</td>\n",
       "      <td>1</td>\n",
       "      <td>21/2/2014</td>\n",
       "    </tr>\n",
       "    <tr>\n",
       "      <th>1</th>\n",
       "      <td>10013</td>\n",
       "      <td>4.0</td>\n",
       "      <td>郴州</td>\n",
       "      <td>6.0</td>\n",
       "      <td>广州</td>\n",
       "      <td>NaN</td>\n",
       "      <td>0.0</td>\n",
       "      <td>NaN</td>\n",
       "      <td>1.0</td>\n",
       "      <td>1.0</td>\n",
       "      <td>...</td>\n",
       "      <td>-1</td>\n",
       "      <td>-1</td>\n",
       "      <td>-1</td>\n",
       "      <td>-1</td>\n",
       "      <td>0</td>\n",
       "      <td>0</td>\n",
       "      <td>1</td>\n",
       "      <td>0</td>\n",
       "      <td>0</td>\n",
       "      <td>28/2/2014</td>\n",
       "    </tr>\n",
       "    <tr>\n",
       "      <th>2</th>\n",
       "      <td>10020</td>\n",
       "      <td>3.0</td>\n",
       "      <td>惠州</td>\n",
       "      <td>5.0</td>\n",
       "      <td>惠州</td>\n",
       "      <td>NaN</td>\n",
       "      <td>0.0</td>\n",
       "      <td>NaN</td>\n",
       "      <td>5.0</td>\n",
       "      <td>1.0</td>\n",
       "      <td>...</td>\n",
       "      <td>9</td>\n",
       "      <td>104</td>\n",
       "      <td>-1</td>\n",
       "      <td>0</td>\n",
       "      <td>0</td>\n",
       "      <td>0</td>\n",
       "      <td>0</td>\n",
       "      <td>0</td>\n",
       "      <td>1</td>\n",
       "      <td>23/2/2014</td>\n",
       "    </tr>\n",
       "  </tbody>\n",
       "</table>\n",
       "<p>3 rows × 227 columns</p>\n",
       "</div>"
      ],
      "text/plain": [
       "     Idx  UserInfo_1 UserInfo_2  UserInfo_3 UserInfo_4  WeblogInfo_1  \\\n",
       "0  10005         1.0         广州         5.0         韶关           NaN   \n",
       "1  10013         4.0         郴州         6.0         广州           NaN   \n",
       "2  10020         3.0         惠州         5.0         惠州           NaN   \n",
       "\n",
       "   WeblogInfo_2  WeblogInfo_3  WeblogInfo_4  WeblogInfo_5     ...       \\\n",
       "0           0.0           NaN           1.0           1.0     ...        \n",
       "1           0.0           NaN           1.0           1.0     ...        \n",
       "2           0.0           NaN           5.0           1.0     ...        \n",
       "\n",
       "   SocialNetwork_9  SocialNetwork_10  SocialNetwork_11  SocialNetwork_12  \\\n",
       "0              626               396                -1                 0   \n",
       "1               -1                -1                -1                -1   \n",
       "2                9               104                -1                 0   \n",
       "\n",
       "   SocialNetwork_13  SocialNetwork_14  SocialNetwork_15  SocialNetwork_16  \\\n",
       "0                 0                 0                 0                 0   \n",
       "1                 0                 0                 1                 0   \n",
       "2                 0                 0                 0                 0   \n",
       "\n",
       "   SocialNetwork_17  ListingInfo  \n",
       "0                 1    21/2/2014  \n",
       "1                 0    28/2/2014  \n",
       "2                 1    23/2/2014  \n",
       "\n",
       "[3 rows x 227 columns]"
      ]
     },
     "execution_count": 4,
     "metadata": {},
     "output_type": "execute_result"
    }
   ],
   "source": [
    "master = pd.read_csv(train_dir+master_f,encoding=\"utf-8\")\n",
    "master_test = pd.read_csv(test_dir+master_test_f,encoding=\"utf-8\")\n",
    "master_test.head(3)"
   ]
  },
  {
   "cell_type": "markdown",
   "metadata": {},
   "source": [
    "### Userupdate_Info 借款人修改信息\n",
    "\n",
    "ListingInfo1：借款成交时间\n",
    "\n",
    "UserupdateInfo1：修改内容\n",
    "\n",
    "UserupdateInfo2：修改时间\n",
    "\n",
    "idx：每一笔贷款的unique key"
   ]
  },
  {
   "cell_type": "code",
   "execution_count": 5,
   "metadata": {
    "collapsed": false
   },
   "outputs": [
    {
     "data": {
      "text/html": [
       "<div>\n",
       "<table border=\"1\" class=\"dataframe\">\n",
       "  <thead>\n",
       "    <tr style=\"text-align: right;\">\n",
       "      <th></th>\n",
       "      <th>Idx</th>\n",
       "      <th>ListingInfo1</th>\n",
       "      <th>UserupdateInfo1</th>\n",
       "      <th>UserupdateInfo2</th>\n",
       "    </tr>\n",
       "  </thead>\n",
       "  <tbody>\n",
       "    <tr>\n",
       "      <th>0</th>\n",
       "      <td>10005</td>\n",
       "      <td>2014/02/21</td>\n",
       "      <td>_EducationId</td>\n",
       "      <td>2014/02/16</td>\n",
       "    </tr>\n",
       "    <tr>\n",
       "      <th>1</th>\n",
       "      <td>10005</td>\n",
       "      <td>2014/02/21</td>\n",
       "      <td>_HasBuyCar</td>\n",
       "      <td>2014/02/16</td>\n",
       "    </tr>\n",
       "    <tr>\n",
       "      <th>2</th>\n",
       "      <td>10005</td>\n",
       "      <td>2014/02/21</td>\n",
       "      <td>_MarriageStatusId</td>\n",
       "      <td>2014/02/16</td>\n",
       "    </tr>\n",
       "  </tbody>\n",
       "</table>\n",
       "</div>"
      ],
      "text/plain": [
       "     Idx ListingInfo1    UserupdateInfo1 UserupdateInfo2\n",
       "0  10005   2014/02/21       _EducationId      2014/02/16\n",
       "1  10005   2014/02/21         _HasBuyCar      2014/02/16\n",
       "2  10005   2014/02/21  _MarriageStatusId      2014/02/16"
      ]
     },
     "execution_count": 5,
     "metadata": {},
     "output_type": "execute_result"
    }
   ],
   "source": [
    "userupdate = pd.read_csv(train_dir+userupdate_f,encoding=\"utf-8\")\n",
    "userupdate_test = pd.read_csv(test_dir+userupdate_test_f,encoding=\"utf-8\")\n",
    "userupdate_test.head(3)"
   ]
  },
  {
   "cell_type": "markdown",
   "metadata": {
    "collapsed": true
   },
   "source": [
    "# 2. 缺失值处理"
   ]
  },
  {
   "cell_type": "code",
   "execution_count": 138,
   "metadata": {
    "collapsed": false
   },
   "outputs": [],
   "source": [
    "train_x = master\n",
    "test_x=master_test"
   ]
  },
  {
   "cell_type": "markdown",
   "metadata": {},
   "source": [
    "### 2.1 统计Master中列缺失比例，将统计缺失值的两列保存到train_dir中的train_x_null， test_dir中的test_x_null\n",
    "* 用-1填补nan\n",
    "* n_null是每行nan个数\n",
    "* discrete_null把n_null分为5档"
   ]
  },
  {
   "cell_type": "code",
   "execution_count": 139,
   "metadata": {
    "collapsed": false
   },
   "outputs": [
    {
     "name": "stderr",
     "output_type": "stream",
     "text": [
      "/Users/Aurora/anaconda2/lib/python2.7/site-packages/ipykernel/__main__.py:8: SettingWithCopyWarning: \n",
      "A value is trying to be set on a copy of a slice from a DataFrame\n",
      "\n",
      "See the caveats in the documentation: http://pandas.pydata.org/pandas-docs/stable/indexing.html#indexing-view-versus-copy\n",
      "/Users/Aurora/anaconda2/lib/python2.7/site-packages/ipykernel/__main__.py:9: SettingWithCopyWarning: \n",
      "A value is trying to be set on a copy of a slice from a DataFrame\n",
      "\n",
      "See the caveats in the documentation: http://pandas.pydata.org/pandas-docs/stable/indexing.html#indexing-view-versus-copy\n",
      "/Users/Aurora/anaconda2/lib/python2.7/site-packages/ipykernel/__main__.py:10: SettingWithCopyWarning: \n",
      "A value is trying to be set on a copy of a slice from a DataFrame\n",
      "\n",
      "See the caveats in the documentation: http://pandas.pydata.org/pandas-docs/stable/indexing.html#indexing-view-versus-copy\n",
      "/Users/Aurora/anaconda2/lib/python2.7/site-packages/ipykernel/__main__.py:11: SettingWithCopyWarning: \n",
      "A value is trying to be set on a copy of a slice from a DataFrame\n",
      "\n",
      "See the caveats in the documentation: http://pandas.pydata.org/pandas-docs/stable/indexing.html#indexing-view-versus-copy\n",
      "/Users/Aurora/anaconda2/lib/python2.7/site-packages/ipykernel/__main__.py:12: SettingWithCopyWarning: \n",
      "A value is trying to be set on a copy of a slice from a DataFrame\n",
      "\n",
      "See the caveats in the documentation: http://pandas.pydata.org/pandas-docs/stable/indexing.html#indexing-view-versus-copy\n"
     ]
    }
   ],
   "source": [
    "train_x.fillna(-1,inplace=True)\n",
    "test_x.fillna(-1,inplace=True)\n",
    "#统计每行缺失值\n",
    "train_x['n_null'] = (train_x<0).sum(axis=1)\n",
    "test_x['n_null'] = (test_x<0).sum(axis=1)\n",
    "#将每行的确实情况分成1-5类\n",
    "train_x['discret_null'] = train_x.n_null\n",
    "train_x.discret_null[train_x.discret_null<=24] = 1\n",
    "train_x.discret_null[(train_x.discret_null>24)&(train_x.discret_null<=34)] = 2\n",
    "train_x.discret_null[(train_x.discret_null>34)&(train_x.discret_null<=46)] = 3\n",
    "train_x.discret_null[(train_x.discret_null>46)&(train_x.discret_null<=51)] = 4\n",
    "train_x.discret_null[(train_x.discret_null>51)] = 5"
   ]
  },
  {
   "cell_type": "code",
   "execution_count": 140,
   "metadata": {
    "collapsed": false
   },
   "outputs": [
    {
     "data": {
      "text/plain": [
       "(array([  1.53000000e+02,   9.06000000e+02,   1.43500000e+03,\n",
       "          1.72350000e+04,   1.93800000e+03,   4.44000000e+03,\n",
       "          9.41000000e+02,   7.89000000e+02,   7.71000000e+02,\n",
       "          3.95000000e+02,   4.12000000e+02,   1.30000000e+02,\n",
       "          1.37000000e+02,   4.10000000e+01,   1.07000000e+02,\n",
       "          1.60000000e+01,   1.43000000e+02,   9.00000000e+00,\n",
       "          0.00000000e+00,   2.00000000e+00]),\n",
       " array([   1.  ,    9.05,   17.1 ,   25.15,   33.2 ,   41.25,   49.3 ,\n",
       "          57.35,   65.4 ,   73.45,   81.5 ,   89.55,   97.6 ,  105.65,\n",
       "         113.7 ,  121.75,  129.8 ,  137.85,  145.9 ,  153.95,  162.  ]),\n",
       " <a list of 20 Patch objects>)"
      ]
     },
     "execution_count": 140,
     "metadata": {},
     "output_type": "execute_result"
    },
    {
     "data": {
      "image/png": "[encoded data removed]",
      "text/plain": [
       "<matplotlib.figure.Figure at 0x124acdc50>"
      ]
     },
     "metadata": {},
     "output_type": "display_data"
    }
   ],
   "source": [
    "plt.hist(train_x.n_null,bins=20)#大多数缺失值集中在20-30"
   ]
  },
  {
   "cell_type": "code",
   "execution_count": 141,
   "metadata": {
    "collapsed": false
   },
   "outputs": [
    {
     "name": "stderr",
     "output_type": "stream",
     "text": [
      "/Users/Aurora/anaconda2/lib/python2.7/site-packages/ipykernel/__main__.py:2: SettingWithCopyWarning: \n",
      "A value is trying to be set on a copy of a slice from a DataFrame\n",
      "\n",
      "See the caveats in the documentation: http://pandas.pydata.org/pandas-docs/stable/indexing.html#indexing-view-versus-copy\n",
      "  from ipykernel import kernelapp as app\n",
      "/Users/Aurora/anaconda2/lib/python2.7/site-packages/ipykernel/__main__.py:3: SettingWithCopyWarning: \n",
      "A value is trying to be set on a copy of a slice from a DataFrame\n",
      "\n",
      "See the caveats in the documentation: http://pandas.pydata.org/pandas-docs/stable/indexing.html#indexing-view-versus-copy\n",
      "  app.launch_new_instance()\n",
      "/Users/Aurora/anaconda2/lib/python2.7/site-packages/ipykernel/__main__.py:4: SettingWithCopyWarning: \n",
      "A value is trying to be set on a copy of a slice from a DataFrame\n",
      "\n",
      "See the caveats in the documentation: http://pandas.pydata.org/pandas-docs/stable/indexing.html#indexing-view-versus-copy\n",
      "/Users/Aurora/anaconda2/lib/python2.7/site-packages/ipykernel/__main__.py:5: SettingWithCopyWarning: \n",
      "A value is trying to be set on a copy of a slice from a DataFrame\n",
      "\n",
      "See the caveats in the documentation: http://pandas.pydata.org/pandas-docs/stable/indexing.html#indexing-view-versus-copy\n",
      "/Users/Aurora/anaconda2/lib/python2.7/site-packages/ipykernel/__main__.py:6: SettingWithCopyWarning: \n",
      "A value is trying to be set on a copy of a slice from a DataFrame\n",
      "\n",
      "See the caveats in the documentation: http://pandas.pydata.org/pandas-docs/stable/indexing.html#indexing-view-versus-copy\n"
     ]
    }
   ],
   "source": [
    "test_x['discret_null'] = test_x.n_null\n",
    "test_x.discret_null[test_x.discret_null<=24] = 1\n",
    "test_x.discret_null[(test_x.discret_null>24)&(test_x.discret_null<=34)] = 2\n",
    "test_x.discret_null[(test_x.discret_null>34)&(test_x.discret_null<=46)] = 3\n",
    "test_x.discret_null[(test_x.discret_null>46)&(test_x.discret_null<=51)] = 4\n",
    "test_x.discret_null[(test_x.discret_null>51)] = 5"
   ]
  },
  {
   "cell_type": "code",
   "execution_count": 142,
   "metadata": {
    "collapsed": true
   },
   "outputs": [],
   "source": [
    "train_x[['Idx','n_null','discret_null']].to_csv(train_dir+'train_x_null.csv',index=None)\n",
    "test_x[['Idx','n_null','discret_null']].to_csv(test_dir+'test_x_null.csv',index=None)"
   ]
  },
  {
   "cell_type": "markdown",
   "metadata": {
    "collapsed": true
   },
   "source": [
    "### 2.2 统计Master中每列的缺失情况，并且按照缺失个数对列进行排序，删除缺失非常大的列\n"
   ]
  },
  {
   "cell_type": "code",
   "execution_count": 143,
   "metadata": {
    "collapsed": false
   },
   "outputs": [
    {
     "name": "stdout",
     "output_type": "stream",
     "text": [
      "数据量： 30000\n"
     ]
    },
    {
     "data": {
      "text/plain": [
       "<matplotlib.text.Text at 0x124cd0f10>"
      ]
     },
     "execution_count": 143,
     "metadata": {},
     "output_type": "execute_result"
    },
    {
     "data": {
      "image/png": "[encoded data removed]",
      "text/plain": [
       "<matplotlib.figure.Figure at 0x1117adb10>"
      ]
     },
     "metadata": {},
     "output_type": "display_data"
    }
   ],
   "source": [
    "col_miss = dict((train_x<0).sum(axis=0))\n",
    "print \"数据量：\",train_x.shape[0]\n",
    "plt.hist(col_miss.values())\n",
    "plt.title(\"Missing counts of columns\")"
   ]
  },
  {
   "cell_type": "code",
   "execution_count": 144,
   "metadata": {
    "collapsed": false
   },
   "outputs": [
    {
     "name": "stdout",
     "output_type": "stream",
     "text": [
      "[(u'SocialNetwork_11', 29988), (u'SocialNetwork_6', 29181), (u'SocialNetwork_5', 29181), (u'SocialNetwork_3', 29180), (u'SocialNetwork_4', 29180), (u'SocialNetwork_7', 29161), (u'WeblogInfo_1', 29030), (u'WeblogInfo_3', 29030), (u'ThirdParty_Info_Period7_8', 28881), (u'ThirdParty_Info_Period7_3', 28881), (u'ThirdParty_Info_Period7_1', 28881), (u'ThirdParty_Info_Period7_2', 28881), (u'ThirdParty_Info_Period7_7', 28881), (u'ThirdParty_Info_Period7_6', 28881), (u'ThirdParty_Info_Period7_5', 28881), (u'ThirdParty_Info_Period7_4', 28881), (u'ThirdParty_Info_Period7_9', 28881), (u'ThirdParty_Info_Period7_11', 28881), (u'ThirdParty_Info_Period7_13', 28881), (u'ThirdParty_Info_Period7_12', 28881)]\n",
      "\n",
      "[(u'WeblogInfo_52', 0), (u'WeblogInfo_58', 0), ('n_null', 0), (u'UserInfo_24', 0), (u'UserInfo_21', 0), (u'UserInfo_20', 0), (u'UserInfo_23', 0), (u'UserInfo_22', 0), (u'target', 0), (u'Idx', 0)]\n",
      "\n",
      "209\n"
     ]
    }
   ],
   "source": [
    "# 找出缺失最多的20列，直接删除\n",
    "col_miss_sort = sorted(col_miss.items(),key = lambda x:x[1],reverse=True)\n",
    "print col_miss_sort[:20]\n",
    "print\n",
    "print col_miss_sort[-10:]\n",
    "\n",
    "col_remain = [i[0] for i in col_miss_sort[21:]]\n",
    "print \"\\n\",len(col_remain)\n",
    "train_x = train_x[col_remain]\n",
    "col_remain.remove(u\"target\")\n",
    "test_x = test_x[col_remain]"
   ]
  },
  {
   "cell_type": "markdown",
   "metadata": {},
   "source": [
    "## 3 剔除变化很小的列\n",
    "* 统计每列的标准差，存为col_std_sort\n",
    "* 剔除变化最小的15列"
   ]
  },
  {
   "cell_type": "code",
   "execution_count": 145,
   "metadata": {
    "collapsed": false
   },
   "outputs": [
    {
     "data": {
      "text/html": [
       "<div>\n",
       "<table border=\"1\" class=\"dataframe\">\n",
       "  <thead>\n",
       "    <tr style=\"text-align: right;\">\n",
       "      <th></th>\n",
       "      <th>0</th>\n",
       "    </tr>\n",
       "  </thead>\n",
       "  <tbody>\n",
       "    <tr>\n",
       "      <th>WeblogInfo_10</th>\n",
       "      <td>0.000000</td>\n",
       "    </tr>\n",
       "    <tr>\n",
       "      <th>WeblogInfo_55</th>\n",
       "      <td>0.036507</td>\n",
       "    </tr>\n",
       "    <tr>\n",
       "      <th>SocialNetwork_1</th>\n",
       "      <td>0.036948</td>\n",
       "    </tr>\n",
       "    <tr>\n",
       "      <th>WeblogInfo_52</th>\n",
       "      <td>0.051930</td>\n",
       "    </tr>\n",
       "    <tr>\n",
       "      <th>WeblogInfo_58</th>\n",
       "      <td>0.063455</td>\n",
       "    </tr>\n",
       "  </tbody>\n",
       "</table>\n",
       "</div>"
      ],
      "text/plain": [
       "                        0\n",
       "WeblogInfo_10    0.000000\n",
       "WeblogInfo_55    0.036507\n",
       "SocialNetwork_1  0.036948\n",
       "WeblogInfo_52    0.051930\n",
       "WeblogInfo_58    0.063455"
      ]
     },
     "execution_count": 145,
     "metadata": {},
     "output_type": "execute_result"
    }
   ],
   "source": [
    "col_std_sort = pd.DataFrame(train_x.std(axis = 0)).sort_values(0)\n",
    "col_std_sort.head(5)"
   ]
  },
  {
   "cell_type": "code",
   "execution_count": 146,
   "metadata": {
    "collapsed": false
   },
   "outputs": [],
   "source": [
    "train_x= train_x[[i for i in train_x.columns if i not in col_std_sort.index[:15].values]]\n",
    "test_x = test_x[[i for i in test_x.columns if i not in col_std_sort.index[:15].values]]"
   ]
  },
  {
   "cell_type": "markdown",
   "metadata": {},
   "source": [
    "## 4 城市名处理-删除“重庆市”中的“市”\n",
    "❓还可以考虑统一省份名称"
   ]
  },
  {
   "cell_type": "code",
   "execution_count": 147,
   "metadata": {
    "collapsed": false
   },
   "outputs": [],
   "source": [
    "def func(x):\n",
    "    if u'市' in x:\n",
    "        return x[0:-1]\n",
    "    else:\n",
    "        return x\n",
    "    \n",
    "city_col = [\"UserInfo_20\",\"UserInfo_19\"]\n",
    "for col in city_col:\n",
    "    train_x[col]=train_x[col].apply(func)\n",
    "    test_x[col]=test_x[col].apply(func)"
   ]
  },
  {
   "cell_type": "markdown",
   "metadata": {},
   "source": [
    "## 5 删除UserInfo_9中的空格"
   ]
  },
  {
   "cell_type": "code",
   "execution_count": 148,
   "metadata": {
    "collapsed": false
   },
   "outputs": [],
   "source": [
    "def funb(x):\n",
    "    return x.replace(\" \",\"\")\n",
    "\n",
    "train_x[\"UserInfo_9\"]=train_x[col].apply(func)\n",
    "test_x[\"UserInfo_9\"]=test_x[col].apply(func)"
   ]
  },
  {
   "cell_type": "markdown",
   "metadata": {
    "collapsed": true
   },
   "source": [
    "## 6 对数值变量，用中位数填缺失值。对类别变量，新建一种类别表示缺失\n",
    "* 怎么找类别变量，取值比较少的，用字符串的"
   ]
  },
  {
   "cell_type": "code",
   "execution_count": 149,
   "metadata": {
    "collapsed": false
   },
   "outputs": [
    {
     "name": "stdout",
     "output_type": "stream",
     "text": [
      "=========================================================\n",
      "列向量转化为集合后的大小（数字比较小，说明是类别变量）\n",
      "=========================================================\n"
     ]
    },
    {
     "data": {
      "text/plain": [
       "<matplotlib.text.Text at 0x11757cd50>"
      ]
     },
     "execution_count": 149,
     "metadata": {},
     "output_type": "execute_result"
    },
    {
     "data": {
      "image/png": "[encoded data removed]",
      "text/plain": [
       "<matplotlib.figure.Figure at 0x126b5edd0>"
      ]
     },
     "metadata": {},
     "output_type": "display_data"
    }
   ],
   "source": [
    "value_cnt = {}\n",
    "for col in train_x.columns:\n",
    "    value_cnt[col] = len(pd.value_counts(train_x[col]))\n",
    "\n",
    "value_cnt_sort = sorted(value_cnt.items(),key = lambda x: x[1])\n",
    "value_cnt_sort1 = [i[1] for i in value_cnt_sort]\n",
    "\n",
    "\n",
    "print \"=========================================================\"\n",
    "print \"列向量转化为集合后的大小（数字比较小，说明是类别变量）\"\n",
    "print \"=========================================================\"\n",
    "\n",
    "plt.hist(value_cnt_sort1[:40],bins=10)\n",
    "plt.title(\"Value Counts of Columns\")"
   ]
  },
  {
   "cell_type": "code",
   "execution_count": 150,
   "metadata": {
    "collapsed": false
   },
   "outputs": [
    {
     "name": "stdout",
     "output_type": "stream",
     "text": [
      "[u'Education_Info1', u'Education_Info5', u'Education_Info7', u'SocialNetwork_16', u'SocialNetwork_15', u'UserInfo_21', u'UserInfo_17', u'target', u'Education_Info3', u'SocialNetwork_13', u'SocialNetwork_12', u'UserInfo_13', u'UserInfo_6', u'UserInfo_5', u'SocialNetwork_2', u'UserInfo_10', u'UserInfo_11', u'UserInfo_12', u'SocialNetwork_17', u'SocialNetwork_14', u'WeblogInfo_23', u'WeblogInfo_35'] \n",
      "\n",
      "[u'Education_Info1', u'Education_Info5', u'Education_Info7', u'SocialNetwork_16', u'SocialNetwork_15', u'UserInfo_21', u'UserInfo_17', u'target', u'Education_Info3', u'SocialNetwork_13', u'SocialNetwork_12', u'UserInfo_13', u'UserInfo_6', u'UserInfo_5', u'SocialNetwork_2', u'UserInfo_10', u'UserInfo_11', u'UserInfo_12', u'SocialNetwork_17', u'SocialNetwork_14', u'WeblogInfo_23', u'WeblogInfo_35', u'WeblogInfo_20', u'WeblogInfo_21', u'WeblogInfo_19', u'UserInfo_2', u'UserInfo_4', u'Education_Info2', u'Education_Info4', u'Education_Info6', u'Education_Info8', u'ListingInfo', u'UserInfo_7', u'UserInfo_8', u'UserInfo_9', u'UserInfo_19', u'UserInfo_24', u'UserInfo_20', u'UserInfo_23', u'UserInfo_22']\n"
     ]
    }
   ],
   "source": [
    "cate_col = []\n",
    "for i in value_cnt_sort:\n",
    "    if i[1] < 5:\n",
    "        cate_col.append(i[0])\n",
    "print cate_col,\"\\n\"\n",
    "\n",
    "def is_cate(list):\n",
    "    for i in list:\n",
    "        if type(i)==str or type(i)==unicode:\n",
    "            return True\n",
    "        break\n",
    "    return False\n",
    "\n",
    "\n",
    "ttt = 300\n",
    "for col in train_x.columns:\n",
    "    if col not in cate_col:\n",
    "        tmp = train_x[col][:ttt].values\n",
    "        if is_cate(tmp):\n",
    "            cate_col.append(col)\n",
    "\n",
    "print cate_col\n",
    "\n",
    "num_col = [i for i in train_x.columns if i not in cate_col]"
   ]
  },
  {
   "cell_type": "code",
   "execution_count": 159,
   "metadata": {
    "collapsed": false
   },
   "outputs": [
    {
     "name": "stderr",
     "output_type": "stream",
     "text": [
      "/Users/Aurora/anaconda2/lib/python2.7/site-packages/ipykernel/__main__.py:5: SettingWithCopyWarning: \n",
      "A value is trying to be set on a copy of a slice from a DataFrame\n",
      "\n",
      "See the caveats in the documentation: http://pandas.pydata.org/pandas-docs/stable/indexing.html#indexing-view-versus-copy\n",
      "/Users/Aurora/anaconda2/lib/python2.7/site-packages/ipykernel/__main__.py:10: SettingWithCopyWarning: \n",
      "A value is trying to be set on a copy of a slice from a DataFrame\n",
      "\n",
      "See the caveats in the documentation: http://pandas.pydata.org/pandas-docs/stable/indexing.html#indexing-view-versus-copy\n"
     ]
    }
   ],
   "source": [
    "# 先填回nan\n",
    "z = float(\"nan\")\n",
    "\n",
    "for col in num_col:\n",
    "    train_x[col][train_x[col]==-1] = z\n",
    "   \n",
    "#用中位数补充\n",
    "col_median = train_x[num_col].median()\n",
    "for col in num_col:\n",
    "    train_x[col][train_x[col]!=train_x[col]] = col_median[col]\n",
    "    \n",
    "train_x.fillna(-1,inplace=True)"
   ]
  },
  {
   "cell_type": "code",
   "execution_count": 160,
   "metadata": {
    "collapsed": false
   },
   "outputs": [
    {
     "name": "stderr",
     "output_type": "stream",
     "text": [
      "/Users/Aurora/anaconda2/lib/python2.7/site-packages/ipykernel/__main__.py:5: SettingWithCopyWarning: \n",
      "A value is trying to be set on a copy of a slice from a DataFrame\n",
      "\n",
      "See the caveats in the documentation: http://pandas.pydata.org/pandas-docs/stable/indexing.html#indexing-view-versus-copy\n",
      "/Users/Aurora/anaconda2/lib/python2.7/site-packages/ipykernel/__main__.py:9: SettingWithCopyWarning: \n",
      "A value is trying to be set on a copy of a slice from a DataFrame\n",
      "\n",
      "See the caveats in the documentation: http://pandas.pydata.org/pandas-docs/stable/indexing.html#indexing-view-versus-copy\n"
     ]
    }
   ],
   "source": [
    "# 先填回nan\n",
    "z = float(\"nan\")\n",
    "\n",
    "for col in num_col:\n",
    "    test_x[col][test_x[col]==-1] = z\n",
    "    \n",
    "col_median = test_x[num_col].median()\n",
    "for col in num_col:\n",
    "    test_x[col][test_x[col]!=test_x[col]] = col_median[col]\n",
    "    \n",
    "test_x.fillna(-1,inplace=True)"
   ]
  },
  {
   "cell_type": "markdown",
   "metadata": {},
   "source": [
    "## 保存数据为master_pro和master_test_pro"
   ]
  },
  {
   "cell_type": "code",
   "execution_count": 161,
   "metadata": {
    "collapsed": true
   },
   "outputs": [],
   "source": [
    "train_x.to_csv(train_dir+\"master_pro.csv\",encoding=\"utf-8\")\n",
    "test_x.to_csv(test_dir+\"master_test_pro.csv\",encoding=\"utf-8\")"
   ]
  },
  {
   "cell_type": "code",
   "execution_count": null,
   "metadata": {
    "collapsed": true
   },
   "outputs": [],
   "source": []
  }
 ],
 "metadata": {
  "kernelspec": {
   "display_name": "Python 2",
   "language": "python",
   "name": "python2"
  },
  "language_info": {
   "codemirror_mode": {
    "name": "ipython",
    "version": 2
   },
   "file_extension": ".py",
   "mimetype": "text/x-python",
   "name": "python",
   "nbconvert_exporter": "python",
   "pygments_lexer": "ipython2",
   "version": "2.7.13"
  }
 },
 "nbformat": 4,
 "nbformat_minor": 2
}
